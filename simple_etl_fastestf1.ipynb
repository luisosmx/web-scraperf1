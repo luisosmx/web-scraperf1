{
  "nbformat": 4,
  "nbformat_minor": 0,
  "metadata": {
    "colab": {
      "provenance": [],
      "authorship_tag": "ABX9TyNCxTJXmq34NYzY22jZ93r0",
      "include_colab_link": true
    },
    "kernelspec": {
      "name": "python3",
      "display_name": "Python 3"
    },
    "language_info": {
      "name": "python"
    }
  },
  "cells": [
    {
      "cell_type": "markdown",
      "metadata": {
        "id": "view-in-github",
        "colab_type": "text"
      },
      "source": [
        "<a href=\"https://colab.research.google.com/github/luisosmx/web-scraperf1/blob/main/simple_etl_fastestf1.ipynb\" target=\"_parent\"><img src=\"https://colab.research.google.com/assets/colab-badge.svg\" alt=\"Open In Colab\"/></a>"
      ]
    },
    {
      "cell_type": "code",
      "execution_count": 1,
      "metadata": {
        "colab": {
          "base_uri": "https://localhost:8080/",
          "height": 373
        },
        "id": "o39i5b6ToEN6",
        "outputId": "de838268-b1e4-4f0b-e8bc-a69fdd52b266"
      },
      "outputs": [
        {
          "output_type": "error",
          "ename": "ModuleNotFoundError",
          "evalue": "ignored",
          "traceback": [
            "\u001b[0;31m---------------------------------------------------------------------------\u001b[0m",
            "\u001b[0;31mModuleNotFoundError\u001b[0m                       Traceback (most recent call last)",
            "\u001b[0;32m<ipython-input-1-4d3bb808ce66>\u001b[0m in \u001b[0;36m<cell line: 1>\u001b[0;34m()\u001b[0m\n\u001b[0;32m----> 1\u001b[0;31m \u001b[0;32mimport\u001b[0m \u001b[0mfunctions_framework\u001b[0m\u001b[0;34m\u001b[0m\u001b[0;34m\u001b[0m\u001b[0m\n\u001b[0m\u001b[1;32m      2\u001b[0m \u001b[0;32mimport\u001b[0m \u001b[0mpandas\u001b[0m \u001b[0;32mas\u001b[0m \u001b[0mpd\u001b[0m\u001b[0;34m\u001b[0m\u001b[0;34m\u001b[0m\u001b[0m\n\u001b[1;32m      3\u001b[0m \u001b[0;32mimport\u001b[0m \u001b[0mrequests\u001b[0m\u001b[0;34m\u001b[0m\u001b[0;34m\u001b[0m\u001b[0m\n\u001b[1;32m      4\u001b[0m \u001b[0;32mfrom\u001b[0m \u001b[0mbs4\u001b[0m \u001b[0;32mimport\u001b[0m \u001b[0mBeautifulSoup\u001b[0m\u001b[0;34m\u001b[0m\u001b[0;34m\u001b[0m\u001b[0m\n\u001b[1;32m      5\u001b[0m \u001b[0;32mfrom\u001b[0m \u001b[0mdatetime\u001b[0m \u001b[0;32mimport\u001b[0m \u001b[0mdatetime\u001b[0m\u001b[0;34m\u001b[0m\u001b[0;34m\u001b[0m\u001b[0m\n",
            "\u001b[0;31mModuleNotFoundError\u001b[0m: No module named 'functions_framework'",
            "",
            "\u001b[0;31m---------------------------------------------------------------------------\u001b[0;32m\nNOTE: If your import is failing due to a missing package, you can\nmanually install dependencies using either !pip or !apt.\n\nTo view examples of installing some common dependencies, click the\n\"Open Examples\" button below.\n\u001b[0;31m---------------------------------------------------------------------------\u001b[0m\n"
          ],
          "errorDetails": {
            "actions": [
              {
                "action": "open_url",
                "actionText": "Open Examples",
                "url": "/notebooks/snippets/importing_libraries.ipynb"
              }
            ]
          }
        }
      ],
      "source": [
        "import functions_framework\n",
        "import pandas as pd\n",
        "import requests\n",
        "from bs4 import BeautifulSoup\n",
        "from datetime import datetime\n",
        "from google.cloud import bigquery\n",
        "\n",
        "\n",
        "# GET request to URL:\n",
        "url = \"https://www.formula1.com/en/results.html/2022/fastest-laps.html\"\n",
        "response = requests.get(url)\n",
        "\n",
        "\n",
        "def data_extraction(url: str) -> pd.DataFrame:\n",
        "\n",
        "  response = requests.get(url)\n",
        "\n",
        "  # Analizar el contenido HTML usando BeautifulSoup\n",
        "  soup = BeautifulSoup(response.content, \"html.parser\")\n",
        "  # Encontrar la tabla de resultados para los conductores\n",
        "  table = soup.find(\"table\", attrs={\"class\": \"resultsarchive-table\"})\n",
        "\n",
        "  # Extraer los datos de la tabla en un DataFrame de pandas\n",
        "  df = pd.read_html(str(table))[0]\n",
        "  return df\n",
        "\n",
        "def data_tranformation(df: pd.DataFrame) -> pd.DataFrame:\n",
        "\n",
        "  # Seleccionar sólo las columnas necesarias\n",
        "  df = df[[\"Grand Prix\", \"Driver\", \"Car\", \"Time\"]]\n",
        "\n",
        "  # Crear una nueva columna \"Acronym\" con los últimos 3 caracteres de la columna \"Driver\"\n",
        "  df[\"Acronym\"] = df[\"Driver\"].str.slice(-3)\n",
        "\n",
        "  # Quitar los últimos 3 caracteres de la columna \"Driver\"\n",
        "  df[\"Driver\"] = df[\"Driver\"].str.slice(stop=-3)\n",
        "\n",
        "  # Agregar columna de \"Date\"\n",
        "  now = datetime.now()\n",
        "\n",
        "  epoch_time = int(now.timestamp())\n",
        "    \n",
        "  df[\"Date\"] = epoch_time\n",
        "\n",
        "  new_name = {\"Car\": \"Team\"}\n",
        "  df = df.rename(columns=new_name)\n",
        "\n",
        "  # Convertir la columna \"Date\" a un tipo de datos de cadena\n",
        "  df[\"Date\"] = df[\"Date\"].astype(str)\n",
        "  return df\n",
        "\n",
        "def load_data(df: pd.DataFrame) -> str:\n",
        "  try:\n",
        "    client = bigquery.Client()\n",
        "\n",
        "    # TODO(developer): Set table_id to the ID of the table to create.\n",
        "    table_id = \"airflow-gke-381100.data_f1.results_fastest_lap\"\n",
        "\n",
        "    # TODO fix null values from GRAND PRIX column\n",
        "    job_config = bigquery.LoadJobConfig(\n",
        "        # Specify a (partial) schema. All columns are always written to the\n",
        "        # table. The schema is used to assist in data type definitions.\n",
        "        schema=[\n",
        "            # Specify the type of columns whose type cannot be auto-detected. For\n",
        "            # example the \"title\" column uses pandas dtype \"object\", so its\n",
        "            # data type is ambiguous.\n",
        "            bigquery.SchemaField(\"Position\", bigquery.enums.SqlTypeNames.STRING)\n",
        "            \n",
        "        ],\n",
        "        # Optionally, set the write disposition. BigQuery appends loaded rows\n",
        "        # to an existing table by default, but with WRITE_TRUNCATE write\n",
        "        # disposition it replaces the table with the loaded data.\n",
        "        write_disposition=\"WRITE_TRUNCATE\",\n",
        "    )\n",
        "\n",
        "    job = client.load_table_from_dataframe(\n",
        "        df, table_id, job_config=job_config\n",
        "    )  # Make an API request.\n",
        "    job.result()  # Wait for the job to complete.\n",
        "\n",
        "    table = client.get_table(table_id)  # Make an API request.\n",
        "    print(\n",
        "        \"Loaded {} rows and {} columns to {}\".format(\n",
        "            table.num_rows, len(table.schema), table_id\n",
        "        )\n",
        "    )\n",
        "    return \"OK\"\n",
        "  except Exception as e:\n",
        "    print(\"########################\")\n",
        "    print(str(e))\n",
        "    print(\"########################\")\n",
        "    return \"Error\"\n",
        "\n",
        "@functions_framework.http\n",
        "def main(request):\n",
        "  raw_data = data_extraction(url)\n",
        "  transformed_data = data_tranformation(raw_data)\n",
        "  result = load_data(transformed_data)\n",
        "  print(result)\n",
        "  return result"
      ]
    },
    {
      "cell_type": "code",
      "source": [
        "raw_data = data_extraction(url)"
      ],
      "metadata": {
        "id": "xLdKYWN3ZiDr"
      },
      "execution_count": null,
      "outputs": []
    }
  ]
}