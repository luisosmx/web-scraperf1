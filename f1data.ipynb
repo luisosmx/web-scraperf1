{
  "nbformat": 4,
  "nbformat_minor": 0,
  "metadata": {
    "colab": {
      "provenance": [],
      "authorship_tag": "ABX9TyNZya7ZxCOTSyTgwWgzeSn9",
      "include_colab_link": true
    },
    "kernelspec": {
      "name": "python3",
      "display_name": "Python 3"
    },
    "language_info": {
      "name": "python"
    }
  },
  "cells": [
    {
      "cell_type": "markdown",
      "metadata": {
        "id": "view-in-github",
        "colab_type": "text"
      },
      "source": [
        "<a href=\"https://colab.research.google.com/github/luisosmx/web-scraperf1/blob/main/f1data.ipynb\" target=\"_parent\"><img src=\"https://colab.research.google.com/assets/colab-badge.svg\" alt=\"Open In Colab\"/></a>"
      ]
    },
    {
      "cell_type": "code",
      "source": [
        "import pandas as pd\n",
        "import requests\n",
        "from bs4 import BeautifulSoup\n",
        "\n",
        "# GET request to URL:\n",
        "url = \"https://www.formula1.com/en/results.html/2022/drivers.html\"\n",
        "response = requests.get(url)"
      ],
      "metadata": {
        "id": "09qtgwi5KyvY"
      },
      "execution_count": 1,
      "outputs": []
    },
    {
      "cell_type": "code",
      "source": [
        "# Analizar el contenido HTML usando BeautifulSoup\n",
        "soup = BeautifulSoup(response.content, \"html.parser\")"
      ],
      "metadata": {
        "id": "XIjZBQ13c-Py"
      },
      "execution_count": 2,
      "outputs": []
    },
    {
      "cell_type": "code",
      "source": [
        "# Encontrar la tabla de resultados para los conductores\n",
        "table = soup.find(\"table\", attrs={\"class\": \"resultsarchive-table\"})\n",
        "\n",
        "# Extraer los datos de la tabla en un DataFrame de pandas\n",
        "df = pd.read_html(str(table))[0]"
      ],
      "metadata": {
        "id": "aHZL2q13nO0P"
      },
      "execution_count": 3,
      "outputs": []
    },
    {
      "cell_type": "code",
      "source": [
        "# Seleccionar sólo las columnas necesarias\n",
        "df = df[[\"Pos\", \"Driver\", \"Nationality\", \"Car\", \"PTS\"]]\n",
        "\n",
        "# Imprimir el DataFrame resultante\n",
        "print(df)"
      ],
      "metadata": {
        "colab": {
          "base_uri": "https://localhost:8080/"
        },
        "id": "bjzSEasKp_ZX",
        "outputId": "863f71ab-d367-4e61-e4db-1c3b83169670"
      },
      "execution_count": 4,
      "outputs": [
        {
          "output_type": "stream",
          "name": "stdout",
          "text": [
            "    Pos                Driver Nationality                           Car  PTS\n",
            "0     1    Max Verstappen VER         NED          Red Bull Racing RBPT  454\n",
            "1     2   Charles Leclerc LEC         MON                       Ferrari  308\n",
            "2     3      Sergio Perez PER         MEX          Red Bull Racing RBPT  305\n",
            "3     4    George Russell RUS         GBR                      Mercedes  275\n",
            "4     5      Carlos Sainz SAI         ESP                       Ferrari  246\n",
            "5     6    Lewis Hamilton HAM         GBR                      Mercedes  240\n",
            "6     7      Lando Norris NOR         GBR              McLaren Mercedes  122\n",
            "7     8      Esteban Ocon OCO         FRA                Alpine Renault   92\n",
            "8     9   Fernando Alonso ALO         ESP                Alpine Renault   81\n",
            "9    10   Valtteri Bottas BOT         FIN            Alfa Romeo Ferrari   49\n",
            "10   11  Daniel Ricciardo RIC         AUS              McLaren Mercedes   37\n",
            "11   12  Sebastian Vettel VET         GER  Aston Martin Aramco Mercedes   37\n",
            "12   13   Kevin Magnussen MAG         DEN                  Haas Ferrari   25\n",
            "13   14      Pierre Gasly GAS         FRA               AlphaTauri RBPT   23\n",
            "14   15      Lance Stroll STR         CAN  Aston Martin Aramco Mercedes   18\n",
            "15   16   Mick Schumacher MSC         GER                  Haas Ferrari   12\n",
            "16   17      Yuki Tsunoda TSU         JPN               AlphaTauri RBPT   12\n",
            "17   18       Zhou Guanyu ZHO         CHN            Alfa Romeo Ferrari    6\n",
            "18   19   Alexander Albon ALB         THA             Williams Mercedes    4\n",
            "19   20   Nicholas Latifi LAT         CAN             Williams Mercedes    2\n",
            "20   21     Nyck De Vries DEV         NED             Williams Mercedes    2\n",
            "21   22   Nico Hulkenberg HUL         GER  Aston Martin Aramco Mercedes    0\n"
          ]
        }
      ]
    },
    {
      "cell_type": "code",
      "source": [
        "# Descarga del df en archivo .CSV\n",
        "df.to_csv(\"resultados_drivers.csv\", index=False)"
      ],
      "metadata": {
        "id": "1CRFeZ0ssTrI"
      },
      "execution_count": 5,
      "outputs": []
    },
    {
      "cell_type": "code",
      "source": [
        "!pip install google-cloud-bigquery\n"
      ],
      "metadata": {
        "id": "QsClvnBljqCb"
      },
      "execution_count": null,
      "outputs": []
    },
    {
      "cell_type": "code",
      "source": [
        "from google.colab import auth\n",
        "from google.cloud import bigquery\n"
      ],
      "metadata": {
        "id": "3aH74HsqxDmY"
      },
      "execution_count": 7,
      "outputs": []
    },
    {
      "cell_type": "code",
      "source": [
        "import os\n",
        "\n",
        "os.environ['GOOGLE_APPLICATION_CREDENTIALS'] = '/content/projectf1-data-7faef3aab5d9.json'\n"
      ],
      "metadata": {
        "id": "0CdAnOQzhqcr"
      },
      "execution_count": 13,
      "outputs": []
    },
    {
      "cell_type": "code",
      "source": [
        "client = bigquery.Client(project='projectf1-data')\n"
      ],
      "metadata": {
        "id": "HH06TnyPmAos"
      },
      "execution_count": 16,
      "outputs": []
    },
    {
      "cell_type": "code",
      "source": [
        "import pandas_gbq\n",
        "\n",
        "\n",
        "tableId = 'projectf1-data.F1_data.DriversF1'\n",
        "projectId = 'projectf1-data'\n",
        "\n",
        "df.to_gbq(destination_table=tableId,\n",
        "          project_id=projectId,\n",
        "          if_exists='replace')\n",
        "print()"
      ],
      "metadata": {
        "colab": {
          "base_uri": "https://localhost:8080/"
        },
        "id": "IU1rQ1CWCQNg",
        "outputId": "8c376ecf-c24b-4710-cfe4-a3a50f7a6cd0"
      },
      "execution_count": 21,
      "outputs": [
        {
          "output_type": "stream",
          "name": "stderr",
          "text": [
            "100%|██████████| 1/1 [00:00<00:00, 6668.21it/s]\n"
          ]
        }
      ]
    },
    {
      "cell_type": "code",
      "source": [],
      "metadata": {
        "id": "r4Fi_SXVl_OR"
      },
      "execution_count": null,
      "outputs": []
    }
  ]
}