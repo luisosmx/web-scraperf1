{
  "nbformat": 4,
  "nbformat_minor": 0,
  "metadata": {
    "colab": {
      "provenance": [],
      "authorship_tag": "ABX9TyP+MMidVqgMUAjK0YHG/KAo",
      "include_colab_link": true
    },
    "kernelspec": {
      "name": "python3",
      "display_name": "Python 3"
    },
    "language_info": {
      "name": "python"
    }
  },
  "cells": [
    {
      "cell_type": "markdown",
      "metadata": {
        "id": "view-in-github",
        "colab_type": "text"
      },
      "source": [
        "<a href=\"https://colab.research.google.com/github/luisosmx/web-scraper/blob/main/web_scrapper.ipynb\" target=\"_parent\"><img src=\"https://colab.research.google.com/assets/colab-badge.svg\" alt=\"Open In Colab\"/></a>"
      ]
    },
    {
      "cell_type": "code",
      "source": [
        "import pandas as pd\n",
        "import requests\n",
        "from bs4 import BeautifulSoup\n",
        "\n",
        "# GET request to URL:\n",
        "url = \"https://www.formula1.com/en/results.html/2022/races.html\"\n",
        "page = requests.get(url)"
      ],
      "metadata": {
        "id": "09qtgwi5KyvY"
      },
      "execution_count": 6,
      "outputs": []
    },
    {
      "cell_type": "code",
      "source": [
        "\n",
        "\n",
        "soup = BeautifulSoup(page.content, \"html.parser\")\n",
        "results_table = soup.find(\"table\", class_=\"resultsarchive-table\")\n",
        "rows = results_table.find_all(\"tr\")\n",
        "\n",
        "data = []\n",
        "for row in rows:\n",
        "    cols = row.find_all(\"td\")\n",
        "    cols = [col.text.strip() for col in cols]\n",
        "    data.append(cols)\n",
        "\n",
        "df = pd.DataFrame(data)\n",
        "\n",
        "headers = rows[0].find_all(\"th\")\n",
        "headers = [header.text.strip() for header in headers]\n",
        "df.columns = headers\n",
        "\n",
        "df = df.iloc[1:]\n",
        "\n",
        "print(df)"
      ],
      "metadata": {
        "colab": {
          "base_uri": "https://localhost:8080/"
        },
        "id": "XIjZBQ13c-Py",
        "outputId": "ef9dc9dd-4859-458c-e351-8cae75ef94c8"
      },
      "execution_count": 5,
      "outputs": [
        {
          "output_type": "stream",
          "name": "stdout",
          "text": [
            "          Grand Prix         Date                 Winner  \\\n",
            "1            Bahrain  20 Mar 2022  Charles\\nLeclerc\\nLEC   \n",
            "2       Saudi Arabia  27 Mar 2022   Max\\nVerstappen\\nVER   \n",
            "3          Australia  10 Apr 2022  Charles\\nLeclerc\\nLEC   \n",
            "4     Emilia Romagna  24 Apr 2022   Max\\nVerstappen\\nVER   \n",
            "5              Miami  08 May 2022   Max\\nVerstappen\\nVER   \n",
            "6              Spain  22 May 2022   Max\\nVerstappen\\nVER   \n",
            "7             Monaco  29 May 2022     Sergio\\nPerez\\nPER   \n",
            "8         Azerbaijan  12 Jun 2022   Max\\nVerstappen\\nVER   \n",
            "9             Canada  19 Jun 2022   Max\\nVerstappen\\nVER   \n",
            "10     Great Britain  03 Jul 2022     Carlos\\nSainz\\nSAI   \n",
            "11           Austria  10 Jul 2022  Charles\\nLeclerc\\nLEC   \n",
            "12            France  24 Jul 2022   Max\\nVerstappen\\nVER   \n",
            "13           Hungary  31 Jul 2022   Max\\nVerstappen\\nVER   \n",
            "14           Belgium  28 Aug 2022   Max\\nVerstappen\\nVER   \n",
            "15       Netherlands  04 Sep 2022   Max\\nVerstappen\\nVER   \n",
            "16             Italy  11 Sep 2022   Max\\nVerstappen\\nVER   \n",
            "17         Singapore  02 Oct 2022     Sergio\\nPerez\\nPER   \n",
            "18             Japan  09 Oct 2022   Max\\nVerstappen\\nVER   \n",
            "19     United States  23 Oct 2022   Max\\nVerstappen\\nVER   \n",
            "20            Mexico  30 Oct 2022   Max\\nVerstappen\\nVER   \n",
            "21            Brazil  13 Nov 2022   George\\nRussell\\nRUS   \n",
            "22         Abu Dhabi  20 Nov 2022   Max\\nVerstappen\\nVER   \n",
            "\n",
            "                     Car Laps         Time    \n",
            "1                Ferrari   57  1:37:33.584    \n",
            "2   Red Bull Racing RBPT   50  1:24:19.293    \n",
            "3                Ferrari   58  1:27:46.548    \n",
            "4   Red Bull Racing RBPT   63  1:32:07.986    \n",
            "5   Red Bull Racing RBPT   57  1:34:24.258    \n",
            "6   Red Bull Racing RBPT   66  1:37:20.475    \n",
            "7   Red Bull Racing RBPT   64  1:56:30.265    \n",
            "8   Red Bull Racing RBPT   51  1:34:05.941    \n",
            "9   Red Bull Racing RBPT   70  1:36:21.757    \n",
            "10               Ferrari   52  2:17:50.311    \n",
            "11               Ferrari   71  1:24:24.312    \n",
            "12  Red Bull Racing RBPT   53  1:30:02.112    \n",
            "13  Red Bull Racing RBPT   70  1:39:35.912    \n",
            "14  Red Bull Racing RBPT   44  1:25:52.894    \n",
            "15  Red Bull Racing RBPT   72  1:36:42.773    \n",
            "16  Red Bull Racing RBPT   53  1:20:27.511    \n",
            "17  Red Bull Racing RBPT   59  2:02:20.238    \n",
            "18  Red Bull Racing RBPT   28  3:01:44.004    \n",
            "19  Red Bull Racing RBPT   56  1:42:11.687    \n",
            "20  Red Bull Racing RBPT   71  1:38:36.729    \n",
            "21              Mercedes   71  1:38:34.044    \n",
            "22  Red Bull Racing RBPT   58  1:27:45.914    \n"
          ]
        }
      ]
    },
    {
      "cell_type": "code",
      "source": [
        "print(cols)"
      ],
      "metadata": {
        "colab": {
          "base_uri": "https://localhost:8080/"
        },
        "id": "qM3i-sCPiONZ",
        "outputId": "39ab7ca7-ac2a-4ece-f309-b2e60597a859"
      },
      "execution_count": 7,
      "outputs": [
        {
          "output_type": "stream",
          "name": "stdout",
          "text": [
            "['', 'Abu Dhabi', '20 Nov 2022', 'Max\\nVerstappen\\nVER', 'Red Bull Racing RBPT', '58', '1:27:45.914', '']\n"
          ]
        }
      ]
    },
    {
      "cell_type": "code",
      "source": [
        "import requests\n",
        "\n",
        "# Define el año de la temporada que deseas buscar por medio de una variable\n",
        "season_year = \"2022\"\n",
        "\n",
        "# Obten la lista de carreras de la temporada\n",
        "season_response = requests.get(f\"https://ergast.com/api/f1/{season_year}.json\")\n",
        "season_data = season_response.json()\n",
        "\n",
        "df = pd.DataFrame(season_data[\"MRData\"][\"RaceTable\"][\"Races\"])\n",
        "\n",
        "# Filtra las carreras por fecha\n",
        "#race_results = []\n",
        "#for race in season_data[\"MRData\"][\"RaceTable\"][\"Races\"]:\n",
        "    #if race[\"date\"] == \"2023-03-19\":\n",
        "        #race_response = requests.get(race[\"url\"])\n",
        "        #print(race_response)\n",
        "  #      race_data = race_response.json()\n",
        " #       race_results.append(race_data)\n",
        "#print(race_results)"
      ],
      "metadata": {
        "id": "QsClvnBljqCb"
      },
      "execution_count": 36,
      "outputs": []
    },
    {
      "cell_type": "code",
      "source": [],
      "metadata": {
        "id": "3aH74HsqxDmY"
      },
      "execution_count": null,
      "outputs": []
    },
    {
      "cell_type": "code",
      "source": [
        "print(df.head(20))\n"
      ],
      "metadata": {
        "colab": {
          "base_uri": "https://localhost:8080/"
        },
        "id": "fMgcpflmkq04",
        "outputId": "320af49d-a393-4d9d-ed04-02e4a464db52"
      },
      "execution_count": 38,
      "outputs": [
        {
          "output_type": "stream",
          "name": "stdout",
          "text": [
            "   season round                                                url  \\\n",
            "0    2022     1  http://en.wikipedia.org/wiki/2022_Bahrain_Gran...   \n",
            "1    2022     2  http://en.wikipedia.org/wiki/2022_Saudi_Arabia...   \n",
            "2    2022     3  http://en.wikipedia.org/wiki/2022_Australian_G...   \n",
            "3    2022     4  http://en.wikipedia.org/wiki/2022_Emilia_Romag...   \n",
            "4    2022     5  http://en.wikipedia.org/wiki/2022_Miami_Grand_...   \n",
            "5    2022     6  http://en.wikipedia.org/wiki/2022_Spanish_Gran...   \n",
            "6    2022     7  http://en.wikipedia.org/wiki/2022_Monaco_Grand...   \n",
            "7    2022     8  http://en.wikipedia.org/wiki/2022_Azerbaijan_G...   \n",
            "8    2022     9  http://en.wikipedia.org/wiki/2022_Canadian_Gra...   \n",
            "9    2022    10  http://en.wikipedia.org/wiki/2022_British_Gran...   \n",
            "10   2022    11  http://en.wikipedia.org/wiki/2022_Austrian_Gra...   \n",
            "11   2022    12  http://en.wikipedia.org/wiki/2022_French_Grand...   \n",
            "12   2022    13  http://en.wikipedia.org/wiki/2022_Hungarian_Gr...   \n",
            "13   2022    14  http://en.wikipedia.org/wiki/2022_Belgian_Gran...   \n",
            "14   2022    15  http://en.wikipedia.org/wiki/2022_Dutch_Grand_...   \n",
            "15   2022    16  http://en.wikipedia.org/wiki/2022_Italian_Gran...   \n",
            "16   2022    17  http://en.wikipedia.org/wiki/2022_Singapore_Gr...   \n",
            "17   2022    18  http://en.wikipedia.org/wiki/2022_Japanese_Gra...   \n",
            "18   2022    19  http://en.wikipedia.org/wiki/2022_United_State...   \n",
            "19   2022    20  http://en.wikipedia.org/wiki/2022_Mexican_Gran...   \n",
            "\n",
            "                     raceName  \\\n",
            "0          Bahrain Grand Prix   \n",
            "1    Saudi Arabian Grand Prix   \n",
            "2       Australian Grand Prix   \n",
            "3   Emilia Romagna Grand Prix   \n",
            "4            Miami Grand Prix   \n",
            "5          Spanish Grand Prix   \n",
            "6           Monaco Grand Prix   \n",
            "7       Azerbaijan Grand Prix   \n",
            "8         Canadian Grand Prix   \n",
            "9          British Grand Prix   \n",
            "10        Austrian Grand Prix   \n",
            "11          French Grand Prix   \n",
            "12       Hungarian Grand Prix   \n",
            "13         Belgian Grand Prix   \n",
            "14           Dutch Grand Prix   \n",
            "15         Italian Grand Prix   \n",
            "16       Singapore Grand Prix   \n",
            "17        Japanese Grand Prix   \n",
            "18   United States Grand Prix   \n",
            "19     Mexico City Grand Prix   \n",
            "\n",
            "                                              Circuit        date       time  \\\n",
            "0   {'circuitId': 'bahrain', 'url': 'http://en.wik...  2022-03-20  15:00:00Z   \n",
            "1   {'circuitId': 'jeddah', 'url': 'http://en.wiki...  2022-03-27  17:00:00Z   \n",
            "2   {'circuitId': 'albert_park', 'url': 'http://en...  2022-04-10  05:00:00Z   \n",
            "3   {'circuitId': 'imola', 'url': 'http://en.wikip...  2022-04-24  13:00:00Z   \n",
            "4   {'circuitId': 'miami', 'url': 'http://en.wikip...  2022-05-08  19:30:00Z   \n",
            "5   {'circuitId': 'catalunya', 'url': 'http://en.w...  2022-05-22  13:00:00Z   \n",
            "6   {'circuitId': 'monaco', 'url': 'http://en.wiki...  2022-05-29  13:00:00Z   \n",
            "7   {'circuitId': 'baku', 'url': 'http://en.wikipe...  2022-06-12  11:00:00Z   \n",
            "8   {'circuitId': 'villeneuve', 'url': 'http://en....  2022-06-19  18:00:00Z   \n",
            "9   {'circuitId': 'silverstone', 'url': 'http://en...  2022-07-03  14:00:00Z   \n",
            "10  {'circuitId': 'red_bull_ring', 'url': 'http://...  2022-07-10  13:00:00Z   \n",
            "11  {'circuitId': 'ricard', 'url': 'http://en.wiki...  2022-07-24  13:00:00Z   \n",
            "12  {'circuitId': 'hungaroring', 'url': 'http://en...  2022-07-31  13:00:00Z   \n",
            "13  {'circuitId': 'spa', 'url': 'http://en.wikiped...  2022-08-28  13:00:00Z   \n",
            "14  {'circuitId': 'zandvoort', 'url': 'http://en.w...  2022-09-04  13:00:00Z   \n",
            "15  {'circuitId': 'monza', 'url': 'http://en.wikip...  2022-09-11  13:00:00Z   \n",
            "16  {'circuitId': 'marina_bay', 'url': 'http://en....  2022-10-02  12:00:00Z   \n",
            "17  {'circuitId': 'suzuka', 'url': 'http://en.wiki...  2022-10-09  05:00:00Z   \n",
            "18  {'circuitId': 'americas', 'url': 'http://en.wi...  2022-10-23  19:00:00Z   \n",
            "19  {'circuitId': 'rodriguez', 'url': 'http://en.w...  2022-10-30  20:00:00Z   \n",
            "\n",
            "                                  FirstPractice  \\\n",
            "0   {'date': '2022-03-18', 'time': '12:00:00Z'}   \n",
            "1   {'date': '2022-03-25', 'time': '14:00:00Z'}   \n",
            "2   {'date': '2022-04-08', 'time': '03:00:00Z'}   \n",
            "3   {'date': '2022-04-22', 'time': '11:30:00Z'}   \n",
            "4   {'date': '2022-05-06', 'time': '18:30:00Z'}   \n",
            "5   {'date': '2022-05-20', 'time': '12:00:00Z'}   \n",
            "6   {'date': '2022-05-27', 'time': '12:00:00Z'}   \n",
            "7   {'date': '2022-06-10', 'time': '11:00:00Z'}   \n",
            "8   {'date': '2022-06-17', 'time': '18:00:00Z'}   \n",
            "9   {'date': '2022-07-01', 'time': '12:00:00Z'}   \n",
            "10  {'date': '2022-07-08', 'time': '11:30:00Z'}   \n",
            "11  {'date': '2022-07-22', 'time': '12:00:00Z'}   \n",
            "12  {'date': '2022-07-29', 'time': '12:00:00Z'}   \n",
            "13  {'date': '2022-08-26', 'time': '12:00:00Z'}   \n",
            "14  {'date': '2022-09-02', 'time': '10:30:00Z'}   \n",
            "15  {'date': '2022-09-09', 'time': '12:00:00Z'}   \n",
            "16  {'date': '2022-09-30', 'time': '10:00:00Z'}   \n",
            "17  {'date': '2022-10-07', 'time': '03:00:00Z'}   \n",
            "18  {'date': '2022-10-21', 'time': '19:00:00Z'}   \n",
            "19  {'date': '2022-10-28', 'time': '18:00:00Z'}   \n",
            "\n",
            "                                 SecondPractice  \\\n",
            "0   {'date': '2022-03-18', 'time': '15:00:00Z'}   \n",
            "1   {'date': '2022-03-25', 'time': '17:00:00Z'}   \n",
            "2   {'date': '2022-04-08', 'time': '06:00:00Z'}   \n",
            "3   {'date': '2022-04-23', 'time': '10:30:00Z'}   \n",
            "4   {'date': '2022-05-06', 'time': '21:30:00Z'}   \n",
            "5   {'date': '2022-05-20', 'time': '15:00:00Z'}   \n",
            "6   {'date': '2022-05-27', 'time': '15:00:00Z'}   \n",
            "7   {'date': '2022-06-10', 'time': '14:00:00Z'}   \n",
            "8   {'date': '2022-06-17', 'time': '21:00:00Z'}   \n",
            "9   {'date': '2022-07-01', 'time': '15:00:00Z'}   \n",
            "10  {'date': '2022-07-09', 'time': '10:30:00Z'}   \n",
            "11  {'date': '2022-07-22', 'time': '15:00:00Z'}   \n",
            "12  {'date': '2022-07-29', 'time': '15:00:00Z'}   \n",
            "13  {'date': '2022-08-26', 'time': '15:00:00Z'}   \n",
            "14  {'date': '2022-09-02', 'time': '14:00:00Z'}   \n",
            "15  {'date': '2022-09-09', 'time': '15:00:00Z'}   \n",
            "16  {'date': '2022-09-30', 'time': '13:00:00Z'}   \n",
            "17  {'date': '2022-10-07', 'time': '06:00:00Z'}   \n",
            "18  {'date': '2022-10-21', 'time': '22:00:00Z'}   \n",
            "19  {'date': '2022-10-28', 'time': '21:00:00Z'}   \n",
            "\n",
            "                                  ThirdPractice  \\\n",
            "0   {'date': '2022-03-19', 'time': '12:00:00Z'}   \n",
            "1   {'date': '2022-03-26', 'time': '14:00:00Z'}   \n",
            "2   {'date': '2022-04-09', 'time': '03:00:00Z'}   \n",
            "3                                           NaN   \n",
            "4   {'date': '2022-05-07', 'time': '17:00:00Z'}   \n",
            "5   {'date': '2022-05-21', 'time': '11:00:00Z'}   \n",
            "6   {'date': '2022-05-28', 'time': '11:00:00Z'}   \n",
            "7   {'date': '2022-06-11', 'time': '11:00:00Z'}   \n",
            "8   {'date': '2022-06-18', 'time': '17:00:00Z'}   \n",
            "9   {'date': '2022-07-02', 'time': '11:00:00Z'}   \n",
            "10                                          NaN   \n",
            "11  {'date': '2022-07-23', 'time': '11:00:00Z'}   \n",
            "12  {'date': '2022-07-30', 'time': '11:00:00Z'}   \n",
            "13  {'date': '2022-08-27', 'time': '11:00:00Z'}   \n",
            "14  {'date': '2022-09-03', 'time': '10:00:00Z'}   \n",
            "15  {'date': '2022-09-10', 'time': '11:00:00Z'}   \n",
            "16  {'date': '2022-10-01', 'time': '10:00:00Z'}   \n",
            "17  {'date': '2022-10-08', 'time': '03:00:00Z'}   \n",
            "18  {'date': '2022-10-22', 'time': '19:00:00Z'}   \n",
            "19  {'date': '2022-10-29', 'time': '17:00:00Z'}   \n",
            "\n",
            "                                     Qualifying  \\\n",
            "0   {'date': '2022-03-19', 'time': '15:00:00Z'}   \n",
            "1   {'date': '2022-03-26', 'time': '17:00:00Z'}   \n",
            "2   {'date': '2022-04-09', 'time': '06:00:00Z'}   \n",
            "3   {'date': '2022-04-22', 'time': '15:00:00Z'}   \n",
            "4   {'date': '2022-05-07', 'time': '20:00:00Z'}   \n",
            "5   {'date': '2022-05-21', 'time': '14:00:00Z'}   \n",
            "6   {'date': '2022-05-28', 'time': '14:00:00Z'}   \n",
            "7   {'date': '2022-06-11', 'time': '14:00:00Z'}   \n",
            "8   {'date': '2022-06-18', 'time': '20:00:00Z'}   \n",
            "9   {'date': '2022-07-02', 'time': '14:00:00Z'}   \n",
            "10  {'date': '2022-07-08', 'time': '15:00:00Z'}   \n",
            "11  {'date': '2022-07-23', 'time': '14:00:00Z'}   \n",
            "12  {'date': '2022-07-30', 'time': '14:00:00Z'}   \n",
            "13  {'date': '2022-08-27', 'time': '14:00:00Z'}   \n",
            "14  {'date': '2022-09-03', 'time': '13:00:00Z'}   \n",
            "15  {'date': '2022-09-10', 'time': '14:00:00Z'}   \n",
            "16  {'date': '2022-10-01', 'time': '13:00:00Z'}   \n",
            "17  {'date': '2022-10-08', 'time': '06:00:00Z'}   \n",
            "18  {'date': '2022-10-22', 'time': '22:00:00Z'}   \n",
            "19  {'date': '2022-10-29', 'time': '20:00:00Z'}   \n",
            "\n",
            "                                         Sprint  \n",
            "0                                           NaN  \n",
            "1                                           NaN  \n",
            "2                                           NaN  \n",
            "3   {'date': '2022-04-23', 'time': '14:30:00Z'}  \n",
            "4                                           NaN  \n",
            "5                                           NaN  \n",
            "6                                           NaN  \n",
            "7                                           NaN  \n",
            "8                                           NaN  \n",
            "9                                           NaN  \n",
            "10  {'date': '2022-07-09', 'time': '14:30:00Z'}  \n",
            "11                                          NaN  \n",
            "12                                          NaN  \n",
            "13                                          NaN  \n",
            "14                                          NaN  \n",
            "15                                          NaN  \n",
            "16                                          NaN  \n",
            "17                                          NaN  \n",
            "18                                          NaN  \n",
            "19                                          NaN  \n"
          ]
        }
      ]
    },
    {
      "cell_type": "code",
      "source": [],
      "metadata": {
        "id": "HH06TnyPmAos"
      },
      "execution_count": null,
      "outputs": []
    }
  ]
}