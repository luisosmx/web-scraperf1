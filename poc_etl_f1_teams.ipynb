{
  "nbformat": 4,
  "nbformat_minor": 0,
  "metadata": {
    "colab": {
      "provenance": [],
      "authorship_tag": "ABX9TyOHL+sDLQLjtFmqf44bgE6K",
      "include_colab_link": true
    },
    "kernelspec": {
      "name": "python3",
      "display_name": "Python 3"
    },
    "language_info": {
      "name": "python"
    }
  },
  "cells": [
    {
      "cell_type": "markdown",
      "metadata": {
        "id": "view-in-github",
        "colab_type": "text"
      },
      "source": [
        "<a href=\"https://colab.research.google.com/github/luisosmx/web-scraperf1/blob/main/poc_etl_f1_teams.ipynb\" target=\"_parent\"><img src=\"https://colab.research.google.com/assets/colab-badge.svg\" alt=\"Open In Colab\"/></a>"
      ]
    },
    {
      "cell_type": "code",
      "execution_count": 1,
      "metadata": {
        "id": "rKxW-Fw4Zf1m"
      },
      "outputs": [],
      "source": [
        "import pandas as pd\n",
        "import requests\n",
        "from bs4 import BeautifulSoup\n",
        "from datetime import datetime\n",
        "\n",
        "\n",
        "# GET request to URL:\n",
        "url = \"https://www.formula1.com/en/results.html/2023/team.html\"\n",
        "response = requests.get(url)"
      ]
    },
    {
      "cell_type": "code",
      "source": [
        "def data_extraction(url: str) -> pd.DataFrame:\n",
        "\n",
        "  response = requests.get(url)\n",
        "\n",
        "  # Analizar el contenido HTML usando BeautifulSoup\n",
        "  soup = BeautifulSoup(response.content, \"html.parser\")\n",
        "  # Encontrar la tabla de resultados para los conductores\n",
        "  table = soup.find(\"table\", attrs={\"class\": \"resultsarchive-table\"})\n",
        "\n",
        "  # Extraer los datos de la tabla en un DataFrame de pandas\n",
        "  df = pd.read_html(str(table))[0]\n",
        "  return df"
      ],
      "metadata": {
        "id": "cG1FlBdVZ5wY"
      },
      "execution_count": 2,
      "outputs": []
    },
    {
      "cell_type": "code",
      "source": [
        "def data_tranformation(df: pd.DataFrame) -> pd.DataFrame:\n",
        "\n",
        "  # Seleccionar sólo las columnas necesarias\n",
        "  df = df[[\"Pos\", \"Team\", \"PTS\"]]\n",
        "\n",
        "  # Agregar columan de \"Date\"\n",
        "  now = datetime.now()\n",
        "\n",
        "  epoch_time = int(now.timestamp())\n",
        "    \n",
        "  df[\"Date\"] = epoch_time\n",
        "\n",
        "  new_name = {\"Pos\": \"Position\", \"PTS\": \"Points\"}\n",
        "  df = df.rename(columns=new_name)\n",
        "\n",
        "  # Convertir la columna \"PTS\" a un tipo de datos de cadena\n",
        "  df[\"Points\"] = df[\"Points\"].astype(str)\n",
        "  df[\"Date\"] = df[\"Date\"].astype(str)\n",
        "  df[\"Position\"] = df[\"Position\"].astype(str)\n",
        "\n",
        "  return df"
      ],
      "metadata": {
        "id": "zUXwxEgXaEw3"
      },
      "execution_count": 3,
      "outputs": []
    },
    {
      "cell_type": "code",
      "source": [
        "def load_data(df: pd.DataFrame) -> str:\n",
        "  client = bigquery.Client()\n",
        "\n",
        "  # TODO(developer): Set table_id to the ID of the table to create.\n",
        "  table_id = \"formula1-data-382219.data_F1.results_drivers\"\n",
        "\n",
        "\n",
        "  job_config = bigquery.LoadJobConfig(\n",
        "      # Specify a (partial) schema. All columns are always written to the\n",
        "      # table. The schema is used to assist in data type definitions.\n",
        "      schema=[\n",
        "          # Specify the type of columns whose type cannot be auto-detected. For\n",
        "          # example the \"title\" column uses pandas dtype \"object\", so its\n",
        "          # data type is ambiguous.\n",
        "          bigquery.SchemaField(\"Position\", bigquery.enums.SqlTypeNames.STRING)\n",
        "          \n",
        "      ],\n",
        "      # Optionally, set the write disposition. BigQuery appends loaded rows\n",
        "      # to an existing table by default, but with WRITE_TRUNCATE write\n",
        "      # disposition it replaces the table with the loaded data.\n",
        "      write_disposition=\"WRITE_TRUNCATE\",\n",
        "  )\n",
        "\n",
        "  job = client.load_table_from_dataframe(\n",
        "      df, table_id, job_config=job_config\n",
        "  )  # Make an API request.\n",
        "  job.result()  # Wait for the job to complete.\n",
        "\n",
        "  table = client.get_table(table_id)  # Make an API request.\n",
        "  print(\n",
        "      \"Loaded {} rows and {} columns to {}\".format(\n",
        "          table.num_rows, len(table.schema), table_id\n",
        "      )\n",
        "  )"
      ],
      "metadata": {
        "id": "0VQ5PWcxd2HW"
      },
      "execution_count": 4,
      "outputs": []
    },
    {
      "cell_type": "code",
      "source": [
        "def main():\n",
        "  raw_data = data_extraction(url)\n",
        "  transformed_data = data_tranformation(raw_data)\n",
        "  result = load_data(transformed_data)\n",
        "  print(result)\n",
        "  return result"
      ],
      "metadata": {
        "id": "ZSr1vEkOeI0m"
      },
      "execution_count": 5,
      "outputs": []
    },
    {
      "cell_type": "code",
      "source": [
        "main()"
      ],
      "metadata": {
        "id": "vi8CKq3neRVQ"
      },
      "execution_count": null,
      "outputs": []
    }
  ]
}