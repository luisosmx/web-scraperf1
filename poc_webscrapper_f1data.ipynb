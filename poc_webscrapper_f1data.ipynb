{
  "nbformat": 4,
  "nbformat_minor": 0,
  "metadata": {
    "colab": {
      "provenance": [],
      "authorship_tag": "ABX9TyOHVFWl3bomRRXCIkwK76cS",
      "include_colab_link": true
    },
    "kernelspec": {
      "name": "python3",
      "display_name": "Python 3"
    },
    "language_info": {
      "name": "python"
    }
  },
  "cells": [
    {
      "cell_type": "markdown",
      "metadata": {
        "id": "view-in-github",
        "colab_type": "text"
      },
      "source": [
        "<a href=\"https://colab.research.google.com/github/luisosmx/web-scraperf1/blob/main/poc_webscrapper_f1data.ipynb\" target=\"_parent\"><img src=\"https://colab.research.google.com/assets/colab-badge.svg\" alt=\"Open In Colab\"/></a>"
      ]
    },
    {
      "cell_type": "code",
      "source": [
        "import pandas as pd\n",
        "import requests\n",
        "from bs4 import BeautifulSoup\n",
        "from datetime import datetime\n",
        "\n",
        "\n",
        "# GET request to URL:\n",
        "url = \"https://www.formula1.com/en/results.html/2023/team.html\"\n",
        "response = requests.get(url)"
      ],
      "metadata": {
        "id": "09qtgwi5KyvY"
      },
      "execution_count": 8,
      "outputs": []
    },
    {
      "cell_type": "code",
      "source": [
        "# Analizar el contenido HTML usando BeautifulSoup\n",
        "soup = BeautifulSoup(response.content, \"html.parser\")"
      ],
      "metadata": {
        "id": "XIjZBQ13c-Py"
      },
      "execution_count": 9,
      "outputs": []
    },
    {
      "cell_type": "code",
      "source": [
        "# Encontrar la tabla de resultados para los conductores\n",
        "table = soup.find(\"table\", attrs={\"class\": \"resultsarchive-table\"})\n",
        "\n",
        "# Extraer los datos de la tabla en un DataFrame de pandas\n",
        "df = pd.read_html(str(table))[0]"
      ],
      "metadata": {
        "id": "aHZL2q13nO0P"
      },
      "execution_count": 10,
      "outputs": []
    },
    {
      "cell_type": "code",
      "source": [
        "print(df)"
      ],
      "metadata": {
        "colab": {
          "base_uri": "https://localhost:8080/"
        },
        "id": "c2KOdovahv6Z",
        "outputId": "c925cb2c-ef98-426c-f0f8-a9aad1620e6d"
      },
      "execution_count": 11,
      "outputs": [
        {
          "output_type": "stream",
          "name": "stdout",
          "text": [
            "   Unnamed: 0  Pos                          Team  PTS  Unnamed: 4\n",
            "0         NaN    1    Red Bull Racing Honda RBPT  123         NaN\n",
            "1         NaN    2  Aston Martin Aramco Mercedes   65         NaN\n",
            "2         NaN    3                      Mercedes   56         NaN\n",
            "3         NaN    4                       Ferrari   26         NaN\n",
            "4         NaN    5              McLaren Mercedes   12         NaN\n",
            "5         NaN    6                Alpine Renault    8         NaN\n",
            "6         NaN    7                  Haas Ferrari    7         NaN\n",
            "7         NaN    8            Alfa Romeo Ferrari    6         NaN\n",
            "8         NaN    9         AlphaTauri Honda RBPT    1         NaN\n",
            "9         NaN   10             Williams Mercedes    1         NaN\n"
          ]
        }
      ]
    },
    {
      "cell_type": "code",
      "source": [
        "# Seleccionar sólo las columnas necesarias\n",
        "df = df[[\"Pos\", \"Team\", \"PTS\"]]\n",
        "\n",
        "# Crear una nueva columna \"Acronym\" con los últimos 3 caracteres de la columna \"Driver\"\n",
        "#df[\"Acronym\"] = df[\"Driver\"].str.slice(-3)\n",
        "\n",
        "# Quitar los últimos 3 caracteres de la columna \"Driver\"\n",
        "#df[\"Driver\"] = df[\"Driver\"].str.slice(stop=-3)\n",
        "\n",
        "\n",
        "now = datetime.now()\n",
        "\n",
        "epoch_time = int(now.timestamp())\n",
        "  \n",
        "df[\"Date\"] = epoch_time\n",
        "\n",
        "new_name = {\"Pos\": \"Position\", \"PTS\": \"Points\"}\n",
        "df = df.rename(columns=new_name)\n",
        "\n",
        "# Convertir la columna \"PTS\" a un tipo de datos de cadena\n",
        "df[\"Points\"] = df[\"Points\"].astype(str)\n",
        "df[\"Date\"] = df[\"Date\"].astype(str)\n",
        "df[\"Position\"] = df[\"Position\"].astype(str)\n",
        "\n",
        "# Imprimir el DataFrame resultante\n",
        "#print(df)"
      ],
      "metadata": {
        "id": "bjzSEasKp_ZX",
        "colab": {
          "base_uri": "https://localhost:8080/"
        },
        "outputId": "8552f957-550b-46c9-b405-a3989b1ad45e"
      },
      "execution_count": 12,
      "outputs": [
        {
          "output_type": "stream",
          "name": "stderr",
          "text": [
            "<ipython-input-12-4ff935e77989>:15: SettingWithCopyWarning: \n",
            "A value is trying to be set on a copy of a slice from a DataFrame.\n",
            "Try using .loc[row_indexer,col_indexer] = value instead\n",
            "\n",
            "See the caveats in the documentation: https://pandas.pydata.org/pandas-docs/stable/user_guide/indexing.html#returning-a-view-versus-a-copy\n",
            "  df[\"Date\"] = epoch_time\n"
          ]
        }
      ]
    },
    {
      "cell_type": "code",
      "source": [
        "print(df.dtypes)"
      ],
      "metadata": {
        "colab": {
          "base_uri": "https://localhost:8080/"
        },
        "id": "zZ8a-tM6e17M",
        "outputId": "c0350ac9-99cd-4e87-fa5e-2c6dceb765fa"
      },
      "execution_count": 13,
      "outputs": [
        {
          "output_type": "stream",
          "name": "stdout",
          "text": [
            "Position    object\n",
            "Team        object\n",
            "Points      object\n",
            "Date        object\n",
            "dtype: object\n"
          ]
        }
      ]
    },
    {
      "cell_type": "code",
      "source": [
        "# Descarga del df en archivo .CSV\n",
        "df.to_csv(\"resultados_drivers.csv\", index=False)"
      ],
      "metadata": {
        "id": "1CRFeZ0ssTrI"
      },
      "execution_count": 14,
      "outputs": []
    },
    {
      "cell_type": "code",
      "source": [
        "!pip install google-cloud-bigquery\n"
      ],
      "metadata": {
        "id": "QsClvnBljqCb"
      },
      "execution_count": null,
      "outputs": []
    },
    {
      "cell_type": "code",
      "source": [
        "\n",
        "from google.cloud import bigquery\n"
      ],
      "metadata": {
        "id": "3aH74HsqxDmY"
      },
      "execution_count": null,
      "outputs": []
    },
    {
      "cell_type": "code",
      "source": [
        "auth.authenticate_user()"
      ],
      "metadata": {
        "id": "fMgcpflmkq04"
      },
      "execution_count": null,
      "outputs": []
    },
    {
      "cell_type": "code",
      "source": [
        "client = bigquery.Client()\n",
        "\n",
        "# TODO(developer): Set table_id to the ID of the table to create.\n",
        "table_id = \"formula1-data-382219.data_F1.results_drivers\"\n",
        "\n",
        "\n",
        "job_config = bigquery.LoadJobConfig(\n",
        "    # Specify a (partial) schema. All columns are always written to the\n",
        "    # table. The schema is used to assist in data type definitions.\n",
        "    schema=[\n",
        "        # Specify the type of columns whose type cannot be auto-detected. For\n",
        "        # example the \"title\" column uses pandas dtype \"object\", so its\n",
        "        # data type is ambiguous.\n",
        "        bigquery.SchemaField(\"Position\", bigquery.enums.SqlTypeNames.STRING)\n",
        "        \n",
        "    ],\n",
        "    # Optionally, set the write disposition. BigQuery appends loaded rows\n",
        "    # to an existing table by default, but with WRITE_TRUNCATE write\n",
        "    # disposition it replaces the table with the loaded data.\n",
        "    write_disposition=\"WRITE_TRUNCATE\",\n",
        ")\n",
        "\n",
        "job = client.load_table_from_dataframe(\n",
        "    df, table_id, job_config=job_config\n",
        ")  # Make an API request.\n",
        "job.result()  # Wait for the job to complete.\n",
        "\n",
        "table = client.get_table(table_id)  # Make an API request.\n",
        "print(\n",
        "    \"Loaded {} rows and {} columns to {}\".format(\n",
        "        table.num_rows, len(table.schema), table_id\n",
        "    )\n",
        ")"
      ],
      "metadata": {
        "id": "HH06TnyPmAos"
      },
      "execution_count": null,
      "outputs": []
    },
    {
      "cell_type": "code",
      "source": [
        "import pandas_gbq\n",
        "pandas_gbq.to_gbq(df, 'data_F1.results_drivers', project_id='formula1-data-382219', if_exists='replace')\n"
      ],
      "metadata": {
        "id": "IU1rQ1CWCQNg"
      },
      "execution_count": null,
      "outputs": []
    },
    {
      "cell_type": "code",
      "source": [
        "!pip install google-cloud-bigquery\n",
        "import pandas as pd\n",
        "import requests\n",
        "from bs4 import BeautifulSoup\n",
        "from datetime import datetime\n",
        "from google.colab import auth\n",
        "import pandas_gbq\n",
        "from google.cloud import bigquery\n",
        "auth.authenticate_user()"
      ],
      "metadata": {
        "id": "Xmj3d5duJACD"
      },
      "execution_count": null,
      "outputs": []
    },
    {
      "cell_type": "code",
      "source": [
        "# GET request to URL:\n",
        "url = \"https://www.formula1.com/en/results.html/2022/drivers.html\"\n",
        "response = requests.get(url)"
      ],
      "metadata": {
        "id": "RL0VBURGJSbr"
      },
      "execution_count": null,
      "outputs": []
    },
    {
      "cell_type": "code",
      "source": [
        "def data_extraction(url: str) -> pd.DataFrame:\n",
        "\n",
        "  response = requests.get(url)\n",
        "\n",
        "  # Analizar el contenido HTML usando BeautifulSoup\n",
        "  soup = BeautifulSoup(response.content, \"html.parser\")\n",
        "  # Encontrar la tabla de resultados para los conductores\n",
        "  table = soup.find(\"table\", attrs={\"class\": \"resultsarchive-table\"})\n",
        "\n",
        "  # Extraer los datos de la tabla en un DataFrame de pandas\n",
        "  df = pd.read_html(str(table))[0]\n",
        "  return df"
      ],
      "metadata": {
        "id": "5mCNAcxKJTtS"
      },
      "execution_count": null,
      "outputs": []
    },
    {
      "cell_type": "code",
      "source": [
        "def data_tranformation(df: pd.DataFrame) -> pd.DataFrame:\n",
        "  # Seleccionar sólo las columnas necesarias\n",
        "  df = df[[\"Pos\", \"Driver\", \"Nationality\", \"Car\", \"PTS\"]]\n",
        "\n",
        "  # Crear una nueva columna \"Acronym\" con los últimos 3 caracteres de la columna \"Driver\"\n",
        "  df[\"Acronym\"] = df[\"Driver\"].str.slice(-3)\n",
        "\n",
        "  # Quitar los últimos 3 caracteres de la columna \"Driver\"\n",
        "  df[\"Driver\"] = df[\"Driver\"].str.slice(stop=-3)\n",
        "\n",
        "\n",
        "  now = datetime.now()\n",
        "\n",
        "  epoch_time = int(now.timestamp())\n",
        "    \n",
        "  df[\"Date\"] = epoch_time\n",
        "\n",
        "  new_name = {\"Pos\": \"Position\",\"Car\": \"Team\", \"PTS\": \"Points\"}\n",
        "  df = df.rename(columns=new_name)\n",
        "  return df"
      ],
      "metadata": {
        "id": "-zFfby7cLVrz"
      },
      "execution_count": null,
      "outputs": []
    },
    {
      "cell_type": "code",
      "source": [
        "def load_data(df: pd.DataFrame) -> str:\n",
        "  try:\n",
        "    auth.authenticate_user()\n",
        "    client = bigquery.Client(project='formula1-data-382219')\n",
        "    pandas_gbq.to_gbq(df, 'data_F1.results_drivers', project_id='formula1-data-382219', if_exists='replace')\n",
        "    return \"OK\"\n",
        "  except Exception as e:\n",
        "    print(\"########################\")\n",
        "    print(str(e))\n",
        "    print(\"########################\")\n",
        "    return \"Error\""
      ],
      "metadata": {
        "id": "FodjJosOR8OH"
      },
      "execution_count": null,
      "outputs": []
    },
    {
      "cell_type": "code",
      "source": [
        "def main():\n",
        "  raw_data = data_extraction(url)\n",
        "  transformed_data = data_tranformation(raw_data)\n",
        "  result = load_data(transformed_data)\n",
        "  print(result)\n",
        "  return result"
      ],
      "metadata": {
        "id": "fJWT-uoaNiU3"
      },
      "execution_count": null,
      "outputs": []
    },
    {
      "cell_type": "code",
      "source": [
        "main()"
      ],
      "metadata": {
        "id": "J4k_mDNrNwyS"
      },
      "execution_count": null,
      "outputs": []
    },
    {
      "cell_type": "code",
      "source": [
        "functions-framework==3.*\n",
        "beautifulsoup4\n",
        "pandas\n",
        "pandas-gbq\n",
        "requests\n",
        "google-cloud-bigquery\n",
        "google-colab"
      ],
      "metadata": {
        "id": "n3qZzzCFXUYW"
      },
      "execution_count": null,
      "outputs": []
    }
  ]
}