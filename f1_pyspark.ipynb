{
  "nbformat": 4,
  "nbformat_minor": 0,
  "metadata": {
    "colab": {
      "provenance": [],
      "authorship_tag": "ABX9TyMVVP102NiL5q6pFFAiwE13",
      "include_colab_link": true
    },
    "kernelspec": {
      "name": "python3",
      "display_name": "Python 3"
    },
    "language_info": {
      "name": "python"
    }
  },
  "cells": [
    {
      "cell_type": "markdown",
      "metadata": {
        "id": "view-in-github",
        "colab_type": "text"
      },
      "source": [
        "<a href=\"https://colab.research.google.com/github/luisosmx/web-scraperf1/blob/main/f1_pyspark.ipynb\" target=\"_parent\"><img src=\"https://colab.research.google.com/assets/colab-badge.svg\" alt=\"Open In Colab\"/></a>"
      ]
    },
    {
      "cell_type": "code",
      "source": [
        "import pandas as pd\n",
        "import requests\n",
        "from bs4 import BeautifulSoup\n",
        "from datetime import datetime\n",
        "\n",
        "\n",
        "# GET request to URL:\n",
        "url = \"https://www.formula1.com/en/results.html/2022/fastest-laps.html\"\n",
        "response = requests.get(url)\n",
        "\n",
        "# Analizar el contenido HTML usando BeautifulSoup\n",
        "soup = BeautifulSoup(response.content, \"html.parser\")\n",
        "\n",
        "# Encontrar la tabla de resultados para los conductores\n",
        "table = soup.find(\"table\", attrs={\"class\": \"resultsarchive-table\"})\n",
        "\n",
        "# Extraer los datos de la tabla en un DataFrame de pandas\n",
        "df = pd.read_html(str(table))[0]\n",
        "\n",
        "# Seleccionar sólo las columnas necesarias\n",
        "df = df[[\"Grand Prix\", \"Driver\", \"Car\", \"Time\"]]\n",
        "\n",
        "# Crear una nueva columna \"Acronym\" con los últimos 3 caracteres de la columna \"Driver\"\n",
        "df[\"Acronym\"] = df[\"Driver\"].str.slice(-3)\n",
        "\n",
        "# Quitar los últimos 3 caracteres de la columna \"Driver\"\n",
        "df[\"Driver\"] = df[\"Driver\"].str.slice(stop=-3)\n",
        "\n",
        "\n",
        "now = datetime.now()\n",
        "\n",
        "epoch_time = int(now.timestamp())\n",
        "  \n",
        "df[\"Date\"] = epoch_time\n",
        "\n",
        "new_name = {\"Car\": \"Team\"}\n",
        "df = df.rename(columns=new_name)\n",
        "\n",
        "# Convertir la columna \"PTS\" a un tipo de datos de cadena\n",
        "#df[\"Laps\"] = df[\"Laps\"].astype(str)\n",
        "df[\"Date\"] = df[\"Date\"].astype(str)\n",
        "\n",
        "# Descarga del df en archivo .CSV\n",
        "df.to_csv(\"resultados_teams.csv\", index=False)"
      ],
      "metadata": {
        "id": "g0fHR-YsXI2h"
      },
      "execution_count": 6,
      "outputs": []
    },
    {
      "cell_type": "code",
      "execution_count": 1,
      "metadata": {
        "colab": {
          "base_uri": "https://localhost:8080/"
        },
        "id": "OVLGQC6HqiC3",
        "outputId": "2a4c29d7-0f98-4640-b38b-08c2689d2972"
      },
      "outputs": [
        {
          "output_type": "stream",
          "name": "stdout",
          "text": [
            "Looking in indexes: https://pypi.org/simple, https://us-python.pkg.dev/colab-wheels/public/simple/\n",
            "Collecting pyspark==3.1.2\n",
            "  Downloading pyspark-3.1.2.tar.gz (212.4 MB)\n",
            "\u001b[2K     \u001b[90m━━━━━━━━━━━━━━━━━━━━━━━━━━━━━━━━━━━━━━━\u001b[0m \u001b[32m212.4/212.4 MB\u001b[0m \u001b[31m5.0 MB/s\u001b[0m eta \u001b[36m0:00:00\u001b[0m\n",
            "\u001b[?25h  Preparing metadata (setup.py) ... \u001b[?25l\u001b[?25hdone\n",
            "Collecting py4j==0.10.9\n",
            "  Downloading py4j-0.10.9-py2.py3-none-any.whl (198 kB)\n",
            "\u001b[2K     \u001b[90m━━━━━━━━━━━━━━━━━━━━━━━━━━━━━━━━━━━━━━\u001b[0m \u001b[32m198.6/198.6 kB\u001b[0m \u001b[31m19.4 MB/s\u001b[0m eta \u001b[36m0:00:00\u001b[0m\n",
            "\u001b[?25hBuilding wheels for collected packages: pyspark\n",
            "  Building wheel for pyspark (setup.py) ... \u001b[?25l\u001b[?25hdone\n",
            "  Created wheel for pyspark: filename=pyspark-3.1.2-py2.py3-none-any.whl size=212880770 sha256=9ade83775ddbd6216e717fef3565d0c130de40ac0f3eb9c8b0607a8f433facd7\n",
            "  Stored in directory: /root/.cache/pip/wheels/11/17/0b/53e7d10fe66ca7647d391cdba323fcf5b2f9dfcb7ebad87aa7\n",
            "Successfully built pyspark\n",
            "Installing collected packages: py4j, pyspark\n",
            "  Attempting uninstall: py4j\n",
            "    Found existing installation: py4j 0.10.9.7\n",
            "    Uninstalling py4j-0.10.9.7:\n",
            "      Successfully uninstalled py4j-0.10.9.7\n",
            "Successfully installed py4j-0.10.9 pyspark-3.1.2\n"
          ]
        }
      ],
      "source": [
        "!apt-get install openjdk-8-jdk-headless -qq > /dev/null\n",
        "!wget -q http://archive.apache.org/dist/spark/spark-3.1.2/spark-3.1.2-bin-hadoop3.2.tgz\n",
        "!tar -xzf spark-3.1.2-bin-hadoop3.2.tgz\n",
        "!mv spark-3.1.2-bin-hadoop3.2.tgz /opt/spark-3.1.2\n",
        "!pip install -q findspark\n",
        "!pip install pyspark==3.1.2 \n",
        "!ln -s /opt/spark-3.1.2 /opt/spark\n",
        "!export SPARK_HOME=/opt/spark\n",
        "!export PATH=$SPARK_HOME/bin:$PATH"
      ]
    },
    {
      "cell_type": "code",
      "source": [
        "!pip install pyspark==3.1.2 "
      ],
      "metadata": {
        "colab": {
          "base_uri": "https://localhost:8080/"
        },
        "id": "uoGWqbuRtF1b",
        "outputId": "4f960ddd-1eac-4746-d66a-1acf142b7109"
      },
      "execution_count": 2,
      "outputs": [
        {
          "output_type": "stream",
          "name": "stdout",
          "text": [
            "Looking in indexes: https://pypi.org/simple, https://us-python.pkg.dev/colab-wheels/public/simple/\n",
            "Requirement already satisfied: pyspark==3.1.2 in /usr/local/lib/python3.9/dist-packages (3.1.2)\n",
            "Requirement already satisfied: py4j==0.10.9 in /usr/local/lib/python3.9/dist-packages (from pyspark==3.1.2) (0.10.9)\n"
          ]
        }
      ]
    },
    {
      "cell_type": "code",
      "source": [
        "import os\n",
        "import findspark\n",
        "\n",
        "import pyspark\n",
        "from pyspark import SparkContext, SparkConf\n",
        "from pyspark.sql import Row\n",
        "from pyspark.sql import SQLContext\n",
        "from pyspark.sql import SparkSession\n",
        "from pyspark.sql.functions import *\n",
        "\n",
        "os.environ['JAVA_HOME'] = '/usr/lib/jvm/java-8-openjdk-amd64'\n",
        "os.environ['SPARK_HOME'] = '/content/spark-3.1.2-bin-hadoop3.2'\n",
        "#os.environ['PYSPARK_SUBMIT_ARGS'] = '--packages com.amazonaws:aws-java-sdk:1.10.34,org.apache.hadoop:hadoop-aws:2.6.0 pyspark-shell'\n",
        "os.environ['PYSPARK_SUBMIT_ARGS'] = '--packages com.amazonaws:aws-java-sdk:1.10.34,org.apache.hadoop:hadoop-aws:2.7.2 pyspark-shell'\n",
        "\n",
        "findspark.init()\n",
        "\n",
        "sc = pyspark.SparkContext(\"local[*]\")\n",
        "spark = SparkSession(sc)\n",
        "\n",
        "print('Modules imported and Spark loaded')\n"
      ],
      "metadata": {
        "colab": {
          "base_uri": "https://localhost:8080/"
        },
        "id": "acnNMMrbtHrH",
        "outputId": "7dd56797-1190-4778-f960-1fb11ba3816c"
      },
      "execution_count": 3,
      "outputs": [
        {
          "output_type": "stream",
          "name": "stdout",
          "text": [
            "Modules imported and Spark loaded\n"
          ]
        }
      ]
    },
    {
      "cell_type": "code",
      "source": [
        "!wget --continue /content/resultados_teams.csv"
      ],
      "metadata": {
        "colab": {
          "base_uri": "https://localhost:8080/"
        },
        "id": "yq7ibDjltXoD",
        "outputId": "60f65784-ba15-40ab-d8fe-2363c05d6fb3"
      },
      "execution_count": 9,
      "outputs": [
        {
          "output_type": "stream",
          "name": "stdout",
          "text": [
            "/content/resultados_teams.csv: Scheme missing.\n"
          ]
        }
      ]
    },
    {
      "cell_type": "code",
      "source": [
        "spark_df = spark.read.csv('/content/resultados_teams.csv')\n",
        "spark_df.show()"
      ],
      "metadata": {
        "colab": {
          "base_uri": "https://localhost:8080/"
        },
        "id": "slNbbW4h2WMi",
        "outputId": "749a0f09-2f58-47d3-8a67-16dba819fe95"
      },
      "execution_count": 11,
      "outputs": [
        {
          "output_type": "stream",
          "name": "stdout",
          "text": [
            "+--------------+----------------+--------------------+--------+-------+----------+\n",
            "|           _c0|             _c1|                 _c2|     _c3|    _c4|       _c5|\n",
            "+--------------+----------------+--------------------+--------+-------+----------+\n",
            "|    Grand Prix|          Driver|                Team|    Time|Acronym|      Date|\n",
            "|       Bahrain|Charles Leclerc |             Ferrari|1:34.570|    LEC|1681183865|\n",
            "|  Saudi Arabia|Charles Leclerc |             Ferrari|1:31.634|    LEC|1681183865|\n",
            "|     Australia|Charles Leclerc |             Ferrari|1:20.260|    LEC|1681183865|\n",
            "|Emilia Romagna| Max Verstappen |Red Bull Racing RBPT|1:18.446|    VER|1681183865|\n",
            "|         Miami| Max Verstappen |Red Bull Racing RBPT|1:31.361|    VER|1681183865|\n",
            "|         Spain|   Sergio Perez |Red Bull Racing RBPT|1:24.108|    PER|1681183865|\n",
            "|        Monaco|   Lando Norris |    McLaren Mercedes|1:14.693|    NOR|1681183865|\n",
            "|    Azerbaijan|   Sergio Perez |Red Bull Racing RBPT|1:46.046|    PER|1681183865|\n",
            "|        Canada|   Carlos Sainz |             Ferrari|1:15.749|    SAI|1681183865|\n",
            "| Great Britain| Lewis Hamilton |            Mercedes|1:30.510|    HAM|1681183865|\n",
            "|       Austria| Max Verstappen |Red Bull Racing RBPT|1:07.275|    VER|1681183865|\n",
            "|        France|   Carlos Sainz |             Ferrari|1:35.781|    SAI|1681183865|\n",
            "|       Hungary| Lewis Hamilton |            Mercedes|1:21.386|    HAM|1681183865|\n",
            "|       Belgium| Max Verstappen |Red Bull Racing RBPT|1:49.354|    VER|1681183865|\n",
            "|   Netherlands| Max Verstappen |Red Bull Racing RBPT|1:13.652|    VER|1681183865|\n",
            "|         Italy|   Sergio Perez |Red Bull Racing RBPT|1:24.030|    PER|1681183865|\n",
            "|     Singapore| George Russell |            Mercedes|1:46.458|    RUS|1681183865|\n",
            "|         Japan|    Zhou Guanyu |  Alfa Romeo Ferrari|1:44.411|    ZHO|1681183865|\n",
            "| United States| George Russell |            Mercedes|1:38.788|    RUS|1681183865|\n",
            "+--------------+----------------+--------------------+--------+-------+----------+\n",
            "only showing top 20 rows\n",
            "\n"
          ]
        }
      ]
    },
    {
      "cell_type": "code",
      "source": [
        "df = spark.read.option(\"header\",True).csv('/content/resultados_teams.csv')\n",
        "df.show()"
      ],
      "metadata": {
        "colab": {
          "base_uri": "https://localhost:8080/"
        },
        "id": "G2_zQMRfYYwG",
        "outputId": "3881bdd0-2110-4b73-db14-54cf791e621d"
      },
      "execution_count": 12,
      "outputs": [
        {
          "output_type": "stream",
          "name": "stdout",
          "text": [
            "+--------------+----------------+--------------------+--------+-------+----------+\n",
            "|    Grand Prix|          Driver|                Team|    Time|Acronym|      Date|\n",
            "+--------------+----------------+--------------------+--------+-------+----------+\n",
            "|       Bahrain|Charles Leclerc |             Ferrari|1:34.570|    LEC|1681183865|\n",
            "|  Saudi Arabia|Charles Leclerc |             Ferrari|1:31.634|    LEC|1681183865|\n",
            "|     Australia|Charles Leclerc |             Ferrari|1:20.260|    LEC|1681183865|\n",
            "|Emilia Romagna| Max Verstappen |Red Bull Racing RBPT|1:18.446|    VER|1681183865|\n",
            "|         Miami| Max Verstappen |Red Bull Racing RBPT|1:31.361|    VER|1681183865|\n",
            "|         Spain|   Sergio Perez |Red Bull Racing RBPT|1:24.108|    PER|1681183865|\n",
            "|        Monaco|   Lando Norris |    McLaren Mercedes|1:14.693|    NOR|1681183865|\n",
            "|    Azerbaijan|   Sergio Perez |Red Bull Racing RBPT|1:46.046|    PER|1681183865|\n",
            "|        Canada|   Carlos Sainz |             Ferrari|1:15.749|    SAI|1681183865|\n",
            "| Great Britain| Lewis Hamilton |            Mercedes|1:30.510|    HAM|1681183865|\n",
            "|       Austria| Max Verstappen |Red Bull Racing RBPT|1:07.275|    VER|1681183865|\n",
            "|        France|   Carlos Sainz |             Ferrari|1:35.781|    SAI|1681183865|\n",
            "|       Hungary| Lewis Hamilton |            Mercedes|1:21.386|    HAM|1681183865|\n",
            "|       Belgium| Max Verstappen |Red Bull Racing RBPT|1:49.354|    VER|1681183865|\n",
            "|   Netherlands| Max Verstappen |Red Bull Racing RBPT|1:13.652|    VER|1681183865|\n",
            "|         Italy|   Sergio Perez |Red Bull Racing RBPT|1:24.030|    PER|1681183865|\n",
            "|     Singapore| George Russell |            Mercedes|1:46.458|    RUS|1681183865|\n",
            "|         Japan|    Zhou Guanyu |  Alfa Romeo Ferrari|1:44.411|    ZHO|1681183865|\n",
            "| United States| George Russell |            Mercedes|1:38.788|    RUS|1681183865|\n",
            "|        Mexico| George Russell |            Mercedes|1:20.153|    RUS|1681183865|\n",
            "+--------------+----------------+--------------------+--------+-------+----------+\n",
            "only showing top 20 rows\n",
            "\n"
          ]
        }
      ]
    },
    {
      "cell_type": "code",
      "source": [
        "spark.read.option(\"header\",True) \\\n",
        "          .csv(\"/content/resultados_teams.csv\") \\\n",
        "          .createOrReplaceTempView(\"drivers_f1_file\")"
      ],
      "metadata": {
        "id": "WdlNLftZY03w"
      },
      "execution_count": 13,
      "outputs": []
    },
    {
      "cell_type": "code",
      "source": [
        "spark.sql(\"SELECT * FROM drivers_f1_file\").show()"
      ],
      "metadata": {
        "colab": {
          "base_uri": "https://localhost:8080/"
        },
        "id": "7iHi_177ZGGw",
        "outputId": "357987a1-dd5e-4ad1-ff91-ef2086ed0216"
      },
      "execution_count": 15,
      "outputs": [
        {
          "output_type": "stream",
          "name": "stdout",
          "text": [
            "+--------------+----------------+--------------------+--------+-------+----------+\n",
            "|    Grand Prix|          Driver|                Team|    Time|Acronym|      Date|\n",
            "+--------------+----------------+--------------------+--------+-------+----------+\n",
            "|       Bahrain|Charles Leclerc |             Ferrari|1:34.570|    LEC|1681183865|\n",
            "|  Saudi Arabia|Charles Leclerc |             Ferrari|1:31.634|    LEC|1681183865|\n",
            "|     Australia|Charles Leclerc |             Ferrari|1:20.260|    LEC|1681183865|\n",
            "|Emilia Romagna| Max Verstappen |Red Bull Racing RBPT|1:18.446|    VER|1681183865|\n",
            "|         Miami| Max Verstappen |Red Bull Racing RBPT|1:31.361|    VER|1681183865|\n",
            "|         Spain|   Sergio Perez |Red Bull Racing RBPT|1:24.108|    PER|1681183865|\n",
            "|        Monaco|   Lando Norris |    McLaren Mercedes|1:14.693|    NOR|1681183865|\n",
            "|    Azerbaijan|   Sergio Perez |Red Bull Racing RBPT|1:46.046|    PER|1681183865|\n",
            "|        Canada|   Carlos Sainz |             Ferrari|1:15.749|    SAI|1681183865|\n",
            "| Great Britain| Lewis Hamilton |            Mercedes|1:30.510|    HAM|1681183865|\n",
            "|       Austria| Max Verstappen |Red Bull Racing RBPT|1:07.275|    VER|1681183865|\n",
            "|        France|   Carlos Sainz |             Ferrari|1:35.781|    SAI|1681183865|\n",
            "|       Hungary| Lewis Hamilton |            Mercedes|1:21.386|    HAM|1681183865|\n",
            "|       Belgium| Max Verstappen |Red Bull Racing RBPT|1:49.354|    VER|1681183865|\n",
            "|   Netherlands| Max Verstappen |Red Bull Racing RBPT|1:13.652|    VER|1681183865|\n",
            "|         Italy|   Sergio Perez |Red Bull Racing RBPT|1:24.030|    PER|1681183865|\n",
            "|     Singapore| George Russell |            Mercedes|1:46.458|    RUS|1681183865|\n",
            "|         Japan|    Zhou Guanyu |  Alfa Romeo Ferrari|1:44.411|    ZHO|1681183865|\n",
            "| United States| George Russell |            Mercedes|1:38.788|    RUS|1681183865|\n",
            "|        Mexico| George Russell |            Mercedes|1:20.153|    RUS|1681183865|\n",
            "+--------------+----------------+--------------------+--------+-------+----------+\n",
            "only showing top 20 rows\n",
            "\n"
          ]
        }
      ]
    },
    {
      "cell_type": "code",
      "source": [],
      "metadata": {
        "id": "ddGphRN8ZJV1"
      },
      "execution_count": null,
      "outputs": []
    }
  ]
}